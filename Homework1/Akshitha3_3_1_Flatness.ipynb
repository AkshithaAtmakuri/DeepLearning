{
  "cells": [
    {
      "cell_type": "code",
      "execution_count": 86,
      "id": "b9b6dc9d",
      "metadata": {
        "id": "b9b6dc9d"
      },
      "outputs": [],
      "source": [
        "import torch\n",
        "import torch.nn as nn\n",
        "import torch.nn.functional as F\n",
        "from torch.utils.data import DataLoader\n",
        "from torchvision import datasets, transforms\n",
        "import numpy as np\n",
        "import matplotlib.pyplot as plt\n",
        "%matplotlib inline\n",
        "from torchsummary import summary"
      ]
    },
    {
      "cell_type": "code",
      "execution_count": 56,
      "id": "9e4219f9",
      "metadata": {
        "id": "9e4219f9"
      },
      "outputs": [],
      "source": [
        "trainingDataSet = datasets.MNIST('', train=True, download=True, transform=transforms.Compose([transforms.ToTensor()]))\n",
        "testingDataSet = datasets.MNIST('', train=False, download=True, transform=transforms.Compose([transforms.ToTensor()]))"
      ]
    },
    {
      "cell_type": "code",
      "execution_count": 57,
      "id": "a130ff17",
      "metadata": {
        "id": "a130ff17"
      },
      "outputs": [],
      "source": [
        "batch_sizes = [64,1024]\n",
        "train1 = torch.utils.data.DataLoader(trainingDataSet, batch_size=batch_sizes[0], shuffle=True)\n",
        "test1 = torch.utils.data.DataLoader(testingDataSet, batch_size=batch_sizes[0], shuffle=True)\n",
        "train2 = torch.utils.data.DataLoader(trainingDataSet, batch_size=batch_sizes[1], shuffle=True)\n",
        "test2 = torch.utils.data.DataLoader(testingDataSet, batch_size=batch_sizes[1], shuffle=True)"
      ]
    },
    {
      "cell_type": "code",
      "execution_count": 58,
      "id": "cea0fb62",
      "metadata": {
        "id": "cea0fb62"
      },
      "outputs": [],
      "source": [
        "# Calculating number of parameters in the class\n",
        "def calcParams(model):\n",
        "    val = sum(params.numel() for params in model.parameters() if params.requires_grad)\n",
        "    return val"
      ]
    },
    {
      "cell_type": "code",
      "execution_count": 59,
      "id": "727ad4b9",
      "metadata": {
        "id": "727ad4b9"
      },
      "outputs": [],
      "source": [
        "class Model1(nn.Module):\n",
        "    def __init__(self):\n",
        "        super().__init__()\n",
        "        self.fc1 = nn.Linear(784,20)    \n",
        "        self.fc2 = nn.Linear(20, 40)\n",
        "        self.out = nn.Linear(40, 10)\n",
        "        \n",
        "    def forward(self, val):\n",
        "        val = F.relu(self.fc1(val))\n",
        "        val = F.relu(self.fc2(val))\n",
        "        val = self.out(val)\n",
        "        return val"
      ]
    },
    {
      "cell_type": "code",
      "execution_count": 87,
      "id": "0fed4b6f",
      "metadata": {
        "colab": {
          "base_uri": "https://localhost:8080/"
        },
        "id": "0fed4b6f",
        "outputId": "0025bae3-d041-4eac-e9b3-46d3a4f950e7"
      },
      "outputs": [
        {
          "output_type": "stream",
          "name": "stdout",
          "text": [
            "16950\n",
            "----------------------------------------------------------------\n",
            "        Layer (type)               Output Shape         Param #\n",
            "================================================================\n",
            "            Linear-1                   [-1, 20]          15,700\n",
            "            Linear-2                   [-1, 40]             840\n",
            "            Linear-3                   [-1, 10]             410\n",
            "================================================================\n",
            "Total params: 16,950\n",
            "Trainable params: 16,950\n",
            "Non-trainable params: 0\n",
            "----------------------------------------------------------------\n",
            "Input size (MB): 0.00\n",
            "Forward/backward pass size (MB): 0.00\n",
            "Params size (MB): 0.06\n",
            "Estimated Total Size (MB): 0.07\n",
            "----------------------------------------------------------------\n"
          ]
        }
      ],
      "source": [
        "model1=Model1()\n",
        "model1params=calcParams(model1)\n",
        "print(model1params)\n",
        "summary(model1,(28*28,))"
      ]
    },
    {
      "cell_type": "code",
      "execution_count": 61,
      "id": "ea55a682",
      "metadata": {
        "id": "ea55a682"
      },
      "outputs": [],
      "source": [
        "lossFunc1 = nn.CrossEntropyLoss()\n",
        "opt1 = torch.optim.Adam(model1.parameters(), lr=0.001)"
      ]
    },
    {
      "cell_type": "code",
      "source": [
        "trainCostList = []\n",
        "trainAccList = []\n",
        "testCostList = []\n",
        "testAccList = []"
      ],
      "metadata": {
        "id": "AEHIAunSjoM9"
      },
      "id": "AEHIAunSjoM9",
      "execution_count": 62,
      "outputs": []
    },
    {
      "cell_type": "code",
      "execution_count": 63,
      "id": "b24d9185",
      "metadata": {
        "id": "b24d9185"
      },
      "outputs": [],
      "source": [
        "epochs = 10\n",
        "trainCorrectMod1 = []\n",
        "testCorrectMod1 = []\n",
        "trainLossesMod1=[]\n",
        "testLossesMod1=[]\n",
        "for i in range(epochs):\n",
        "    trainCorr = 0\n",
        "    testCorr = 0\n",
        "\n",
        "    for batch, (XTrain, yTrain) in enumerate(train1):\n",
        "       \n",
        "        y_pred = model1(XTrain.view(-1,784))  \n",
        "        trnLoss = lossFunc1(y_pred, yTrain)\n",
        "        predicted = torch.max(y_pred.data, 1)[1]\n",
        "        batchCorr = (predicted == yTrain).sum()\n",
        "        trainCorr += batchCorr\n",
        "\n",
        "        opt1.zero_grad()\n",
        "        trnLoss.backward()\n",
        "        opt1.step()\n",
        "\n",
        "    trainLossesMod1.append(trnLoss)\n",
        "    trainCorrectMod1.append(trainCorr)\n",
        "\n",
        "    with torch.no_grad():\n",
        "        for batch, (XTest, yTest) in enumerate(test1):\n",
        "\n",
        "            y_val = model1(XTest.view(-1,784)) \n",
        "            predicted = torch.max(y_val.data, 1)[1] \n",
        "            testCorr += (predicted == yTest).sum()\n",
        "    \n",
        "    testLoss = lossFunc1(y_val, yTest)\n",
        "    testLossesMod1.append(testLoss)\n",
        "    testCorrectMod1.append(testCorr)\n",
        "    \n",
        "        "
      ]
    },
    {
      "cell_type": "code",
      "execution_count": 64,
      "id": "8e97afc7",
      "metadata": {
        "id": "8e97afc7"
      },
      "outputs": [],
      "source": [
        "for i in range(len(trainLossesMod1)):\n",
        "     trainCostList.append(trainLossesMod1[i].detach().numpy())\n",
        "for i in range(len(testLossesMod1)):\n",
        "     testCostList.append(testLossesMod1[i].detach().numpy())\n",
        "for i in range(len(trainCorrectMod1)):\n",
        "     testAccList.append(trainCorrectMod1[i].detach().numpy()/600)\n",
        "for i in range(len(testCorrectMod1)):\n",
        "     testAccList.append(testCorrectMod1[i].detach().numpy()/100)"
      ]
    },
    {
      "cell_type": "code",
      "execution_count": 65,
      "id": "547c18ec",
      "metadata": {
        "id": "547c18ec"
      },
      "outputs": [],
      "source": [
        "#Model 2 with batch size 1024"
      ]
    },
    {
      "cell_type": "code",
      "execution_count": 66,
      "id": "9bbf91f1",
      "metadata": {
        "id": "9bbf91f1"
      },
      "outputs": [],
      "source": [
        "class Model2(nn.Module):\n",
        "    def __init__(self, in_features=784, h2=20, h3=40, out_features=10):\n",
        "        super().__init__()\n",
        "        self.fc1 = nn.Linear(784,20)    \n",
        "        self.fc2 = nn.Linear(20, 40)\n",
        "        self.out = nn.Linear(40, 10)\n",
        "        \n",
        "    def forward(self, val):\n",
        "        val = F.relu(self.fc1(val))\n",
        "        val = F.relu(self.fc2(val))\n",
        "        val = self.out(val)\n",
        "        return val"
      ]
    },
    {
      "cell_type": "code",
      "execution_count": 89,
      "id": "22b63d97",
      "metadata": {
        "colab": {
          "base_uri": "https://localhost:8080/"
        },
        "id": "22b63d97",
        "outputId": "935c9d86-9dc0-4937-b333-fba6823005cd"
      },
      "outputs": [
        {
          "output_type": "stream",
          "name": "stdout",
          "text": [
            "16950\n",
            "----------------------------------------------------------------\n",
            "        Layer (type)               Output Shape         Param #\n",
            "================================================================\n",
            "            Linear-1                   [-1, 20]          15,700\n",
            "            Linear-2                   [-1, 40]             840\n",
            "            Linear-3                   [-1, 10]             410\n",
            "================================================================\n",
            "Total params: 16,950\n",
            "Trainable params: 16,950\n",
            "Non-trainable params: 0\n",
            "----------------------------------------------------------------\n",
            "Input size (MB): 0.00\n",
            "Forward/backward pass size (MB): 0.00\n",
            "Params size (MB): 0.06\n",
            "Estimated Total Size (MB): 0.07\n",
            "----------------------------------------------------------------\n"
          ]
        }
      ],
      "source": [
        "model2=Model2()\n",
        "model2params=calcParams(model2)\n",
        "print(model2params)\n",
        "summary(model2,(28*28,))"
      ]
    },
    {
      "cell_type": "code",
      "execution_count": 68,
      "id": "f7e7099c",
      "metadata": {
        "id": "f7e7099c"
      },
      "outputs": [],
      "source": [
        "lossFunc2 = nn.CrossEntropyLoss()\n",
        "opt2 = torch.optim.Adam(model2.parameters(), lr=0.001)"
      ]
    },
    {
      "cell_type": "code",
      "execution_count": 54,
      "id": "e0359e8b",
      "metadata": {
        "id": "e0359e8b"
      },
      "outputs": [],
      "source": [
        "epochs = 10\n",
        "trainLossesMod2=[]\n",
        "testLossesMod2=[]\n",
        "trainCorrectMod2 = []\n",
        "testCorrectMod2 = []\n",
        "for i in range(epochs):\n",
        "    trainCorr = 0\n",
        "    testCorr = 0\n",
        "\n",
        "    for batch, (XTrain, yTrain) in enumerate(train2):\n",
        "       \n",
        "        y_pred = model2(XTrain.view(-1,784))  \n",
        "        loss = lossFunc2(y_pred, yTrain)\n",
        "        predicted = torch.max(y_pred.data, 1)[1]\n",
        "        batchCorr = (predicted == yTrain).sum()\n",
        "        trainCorr += batchCorr\n",
        "        opt2.zero_grad()\n",
        "        loss.backward()\n",
        "        opt2.step()\n",
        "        \n",
        "    trainLossesMod2.append(loss)\n",
        "    trainCorrectMod2.append(trainCorr)\n",
        "        \n",
        "   \n",
        "    with torch.no_grad():\n",
        "        for batch, (XTest, yTest) in enumerate(test2):\n",
        "            y_val = model2(XTest.view(-1,784)) \n",
        "            predicted = torch.max(y_val.data, 1)[1] \n",
        "            testCorr += (predicted == yTest).sum()\n",
        "    \n",
        "    loss = lossFunc2(y_val, yTest)\n",
        "    testLossesMod2.append(loss)\n",
        "    testCorrectMod2.append(testCorr)\n",
        "        "
      ]
    },
    {
      "cell_type": "code",
      "execution_count": 69,
      "id": "66ef772b",
      "metadata": {
        "id": "66ef772b"
      },
      "outputs": [],
      "source": [
        "for i in range(len(trainLossesMod2)):\n",
        "     trainCostList.append(trainLossesMod2[i].detach().numpy())\n",
        "for i in range(len(testLossesMod2)):\n",
        "     testCostList.append(testLossesMod2[i].detach().numpy())\n",
        "for i in range(len(trainCorrectMod2)):\n",
        "     trainAccList.append(trainCorrectMod2[i].detach().numpy()/600)\n",
        "for i in range(len(testCorrectMod2)):\n",
        "     testAccList.append(testCorrectMod2[i].detach().numpy()/100)"
      ]
    },
    {
      "cell_type": "code",
      "execution_count": 70,
      "id": "ae228804",
      "metadata": {
        "id": "ae228804"
      },
      "outputs": [],
      "source": [
        "alpa=np.linspace(-1.0, 2.0, num=20)\n",
        "thetaArr=[]\n",
        "for i in range(len(alpa)):\n",
        "    theta=(1-alpa[i])*model1params+alpa[i]*model2params\n",
        "    thetaArr.append(theta)"
      ]
    },
    {
      "cell_type": "code",
      "execution_count": 84,
      "id": "b6fa6c50",
      "metadata": {
        "colab": {
          "base_uri": "https://localhost:8080/",
          "height": 313
        },
        "id": "b6fa6c50",
        "outputId": "de8ead21-6dbd-4ff4-9f08-1158356d8670"
      },
      "outputs": [
        {
          "output_type": "execute_result",
          "data": {
            "text/plain": [
              "<matplotlib.legend.Legend at 0x7f0f8e992c70>"
            ]
          },
          "metadata": {},
          "execution_count": 84
        },
        {
          "output_type": "display_data",
          "data": {
            "text/plain": [
              "<Figure size 432x288 with 2 Axes>"
            ],
            "image/png": "[encoded data removed]"
          },
          "metadata": {
            "needs_background": "light"
          }
        }
      ],
      "source": [
        "# Visulaize Loss and accuracy to the number of interpolation ratio with lr=0.001 for batch size of all models\n",
        "fig, ax1 = plt.subplots()\n",
        "ax2 = ax1.twinx()\n",
        "ax1.plot(alpa, trainCostList, 'b', label='Train')\n",
        "ax1.plot(alpa, testCostList, 'b--', label='Test')\n",
        "ax2.plot(alpa, trainAccList, 'r', label='accuracy')\n",
        "ax2.plot(alpa, testAccList, 'r--', label='accuracy')\n",
        "ax1.set_title('Loss & Accuracy to the number of interpolation ratio lr = .001.')\n",
        "ax1.set_xlabel('Alpha')\n",
        "ax1.set_ylabel('Loss', color='b')\n",
        "ax2.set_ylabel('Accuracy', color='r')\n",
        "ax1.legend()"
      ]
    },
    {
      "cell_type": "code",
      "execution_count": 73,
      "id": "cee7466d",
      "metadata": {
        "id": "cee7466d"
      },
      "outputs": [],
      "source": [
        "class Model1(nn.Module):\n",
        "    def __init__(self, in_features=784, h2=20, h3=40, out_features=10):\n",
        "        super().__init__()\n",
        "        self.fc1 = nn.Linear(784,20)    \n",
        "        self.fc2 = nn.Linear(20, 40)\n",
        "        self.out = nn.Linear(40, 10)\n",
        "        \n",
        "    def forward(self, x):\n",
        "        x = F.relu(self.fc1(x))\n",
        "        x = F.relu(self.fc2(x))\n",
        "        x = self.out(x)\n",
        "        return x"
      ]
    },
    {
      "cell_type": "code",
      "execution_count": 74,
      "id": "8e2e052f",
      "metadata": {
        "id": "8e2e052f"
      },
      "outputs": [],
      "source": [
        "model1=Model1()\n",
        "lossFunc1 = nn.CrossEntropyLoss()\n",
        "opt1 = torch.optim.Adam(model1.parameters(), lr=0.01)"
      ]
    },
    {
      "cell_type": "code",
      "execution_count": 75,
      "id": "316e2c56",
      "metadata": {
        "id": "316e2c56"
      },
      "outputs": [],
      "source": [
        "epochs = 10\n",
        "trainCorrectMod1 = []\n",
        "testCorrectMod1 = []\n",
        "trainLossesMod1=[]\n",
        "testLossesMod1=[]\n",
        "\n",
        "for i in range(epochs):\n",
        "    trainCorr = 0\n",
        "    testCorr = 0\n",
        "\n",
        "    for batch, (XTrain, yTrain) in enumerate(train1):\n",
        "       \n",
        "        y_pred = model1(XTrain.view(-1,784))  \n",
        "        trnLoss = lossFunc1(y_pred, yTrain)\n",
        "\n",
        "        predicted = torch.max(y_pred.data, 1)[1]\n",
        "        batchCorr = (predicted == yTrain).sum()\n",
        "        trainCorr += batchCorr\n",
        "        opt1.zero_grad()\n",
        "        trnLoss.backward()\n",
        "        opt1.step()       \n",
        "\n",
        "    trainLossesMod1.append(trnLoss)\n",
        "    trainCorrectMod1.append(trainCorr)      \n",
        "   \n",
        "    with torch.no_grad():\n",
        "        for batch, (XTest, yTest) in enumerate(test1):\n",
        "\n",
        "            y_val = model1(XTest.view(-1,784)) \n",
        "            predicted = torch.max(y_val.data, 1)[1] \n",
        "            testCorr += (predicted == yTest).sum()\n",
        " \n",
        "    testLoss = lossFunc1(y_val, yTest)\n",
        "    testLossesMod1.append(testLoss)\n",
        "    testCorrectMod1.append(testCorr)\n",
        "    \n",
        "        "
      ]
    },
    {
      "cell_type": "code",
      "execution_count": 76,
      "id": "8a3540dd",
      "metadata": {
        "id": "8a3540dd"
      },
      "outputs": [],
      "source": [
        "trainCostList = []\n",
        "trainAccList = []\n",
        "testCostList = []\n",
        "testAccList = []"
      ]
    },
    {
      "cell_type": "code",
      "execution_count": 77,
      "id": "cda4d33d",
      "metadata": {
        "id": "cda4d33d"
      },
      "outputs": [],
      "source": [
        "for i in range(len(trainLossesMod1)):\n",
        "     trainCostList.append(trainLossesMod1[i].detach().numpy())\n",
        "for i in range(len(testLossesMod1)):\n",
        "     testCostList.append(testLossesMod1[i].detach().numpy())\n",
        "for i in range(len(trainCorrectMod1)):\n",
        "     trainAccList.append(trainCorrectMod1[i].detach().numpy()/600)\n",
        "for i in range(len(testCorrectMod1)):\n",
        "     testAccList.append(testCorrectMod1[i].detach().numpy()/100)"
      ]
    },
    {
      "cell_type": "code",
      "execution_count": 79,
      "id": "a781ae0a",
      "metadata": {
        "id": "a781ae0a"
      },
      "outputs": [],
      "source": [
        "class Model2(nn.Module):\n",
        "    def __init__(self):\n",
        "        super().__init__()\n",
        "        self.fc1 = nn.Linear(784,20)    \n",
        "        self.fc2 = nn.Linear(20, 40)\n",
        "        self.out = nn.Linear(40, 10)\n",
        "                \n",
        "    def forward(self, x):\n",
        "        x = F.relu(self.fc1(x))\n",
        "        x = F.relu(self.fc2(x))\n",
        "        x = self.out(x)\n",
        "        return x"
      ]
    },
    {
      "cell_type": "code",
      "execution_count": 80,
      "id": "172e8f84",
      "metadata": {
        "id": "172e8f84"
      },
      "outputs": [],
      "source": [
        "model2=Model2()\n",
        "lossFunc2 = nn.CrossEntropyLoss()\n",
        "opt2= torch.optim.Adam(model2.parameters(), lr=0.01)"
      ]
    },
    {
      "cell_type": "code",
      "execution_count": 81,
      "id": "83d9aabb",
      "metadata": {
        "id": "83d9aabb"
      },
      "outputs": [],
      "source": [
        "epochs = 10\n",
        "trainCorrectMod2 = []\n",
        "testCorrectMod2 = []\n",
        "trainLossesMod2=[]\n",
        "testLossesMod2=[]\n",
        "\n",
        "for i in range(epochs):\n",
        "    trainCorr = 0\n",
        "    testCorr = 0\n",
        "\n",
        "    for b, (XTrain, yTrain) in enumerate(train2):\n",
        "       \n",
        "        y_pred = model2(XTrain.view(-1,784))  \n",
        "        trnLoss = lossFunc2(y_pred, yTrain)\n",
        "\n",
        "        predicted = torch.max(y_pred.data, 1)[1]\n",
        "        batchCorr = (predicted == yTrain).sum()\n",
        "        trainCorr += batchCorr\n",
        "        opt2.zero_grad()\n",
        "        trnLoss.backward()\n",
        "        opt2.step()\n",
        "\n",
        "    trainLossesMod2.append(trnLoss)\n",
        "    trainCorrectMod2.append(trainCorr)\n",
        "        \n",
        "    with torch.no_grad():\n",
        "        for batch, (XTest, yTest) in enumerate(test2):\n",
        "\n",
        "            y_val = model2(XTest.view(-1,784)) \n",
        "\n",
        "            predicted = torch.max(y_val.data, 1)[1] \n",
        "            testCorr += (predicted == yTest).sum()\n",
        "    testLoss = lossFunc2(y_val, yTest)\n",
        "    testLossesMod2.append(testLoss)\n",
        "    testCorrectMod2.append(testCorr)\n",
        "    \n",
        "        "
      ]
    },
    {
      "cell_type": "code",
      "execution_count": 82,
      "id": "d1cd2d5d",
      "metadata": {
        "id": "d1cd2d5d"
      },
      "outputs": [],
      "source": [
        "for i in range(len(trainLossesMod2)):\n",
        "     trainCostList.append(trainLossesMod2[i].detach().numpy())\n",
        "for i in range(len(testLossesMod2)):\n",
        "     testCostList.append(testLossesMod2[i].detach().numpy())\n",
        "for i in range(len(trainCorrectMod2)):\n",
        "     trainAccList.append(trainCorrectMod2[i].detach().numpy()/600)\n",
        "for i in range(len(testCorrectMod2)):\n",
        "     testAccList.append(testCorrectMod2[i].detach().numpy()/100)"
      ]
    },
    {
      "cell_type": "code",
      "execution_count": 83,
      "id": "2f219909",
      "metadata": {
        "colab": {
          "base_uri": "https://localhost:8080/",
          "height": 313
        },
        "id": "2f219909",
        "outputId": "6990f01c-4bd3-43e0-bda4-b5abd17fd098"
      },
      "outputs": [
        {
          "output_type": "execute_result",
          "data": {
            "text/plain": [
              "<matplotlib.legend.Legend at 0x7f0f8eac1910>"
            ]
          },
          "metadata": {},
          "execution_count": 83
        },
        {
          "output_type": "display_data",
          "data": {
            "text/plain": [
              "<Figure size 432x288 with 2 Axes>"
            ],
            "image/png": "[encoded data removed]"
          },
          "metadata": {
            "needs_background": "light"
          }
        }
      ],
      "source": [
        "# Visulaize Loss and accuracy to the number of interpolation ratio with lr=0.001 for batch size of all models\n",
        "fig, ax1 = plt.subplots()\n",
        "ax2 = ax1.twinx()\n",
        "ax1.plot(alpa, trainCostList, 'b', label='Train')\n",
        "ax1.plot(alpa, testCostList, 'b--', label='Test')\n",
        "ax2.plot(alpa, trainAccList, 'r', label='accuracy')\n",
        "ax2.plot(alpa, testAccList, 'r--', label='accuracy')\n",
        "ax1.set_title('Loss & Accuracy to the number of interpolation ratio lr=0.01.')\n",
        "ax1.set_xlabel('Alpha')\n",
        "ax1.set_ylabel('Loss', color='b')\n",
        "ax2.set_ylabel('Accuracy', color='r')\n",
        "ax1.legend()"
      ]
    }
  ],
  "metadata": {
    "kernelspec": {
      "display_name": "Python 3 (ipykernel)",
      "language": "python",
      "name": "python3"
    },
    "language_info": {
      "codemirror_mode": {
        "name": "ipython",
        "version": 3
      },
      "file_extension": ".py",
      "mimetype": "text/x-python",
      "name": "python",
      "nbconvert_exporter": "python",
      "pygments_lexer": "ipython3",
      "version": "3.9.7"
    },
    "colab": {
      "provenance": []
    }
  },
  "nbformat": 4,
  "nbformat_minor": 5
}