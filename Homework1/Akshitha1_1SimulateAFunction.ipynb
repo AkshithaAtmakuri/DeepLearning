{
  "cells": [
    {
      "cell_type": "code",
      "execution_count": 11,
      "id": "57324c70",
      "metadata": {
        "id": "57324c70"
      },
      "outputs": [],
      "source": [
        "import numpy as np\n",
        "import torch\n",
        "import torchvision as tv\n",
        "from torchvision import transforms, datasets\n",
        "import torch.nn as nn\n",
        "import torch.nn.functional as F\n",
        "import torch.optim as optim\n",
        "import matplotlib.pyplot as plt\n",
        "from torchsummary import summary"
      ]
    },
    {
      "cell_type": "code",
      "execution_count": 12,
      "id": "4a9ea80e",
      "metadata": {
        "id": "4a9ea80e"
      },
      "outputs": [],
      "source": [
        "def nlfunction(x):\n",
        "    return (x**3 + 2*x**2 + 3*x + 1)    "
      ]
    },
    {
      "cell_type": "code",
      "execution_count": 13,
      "id": "82a9e36c",
      "metadata": {
        "colab": {
          "base_uri": "https://localhost:8080/",
          "height": 283
        },
        "id": "82a9e36c",
        "outputId": "55d56e9d-5569-4cd4-cf42-2f19cd71e51b"
      },
      "outputs": [
        {
          "output_type": "execute_result",
          "data": {
            "text/plain": [
              "[<matplotlib.lines.Line2D at 0x7fe105e2e190>]"
            ]
          },
          "metadata": {},
          "execution_count": 13
        },
        {
          "output_type": "display_data",
          "data": {
            "text/plain": [
              "<Figure size 432x288 with 1 Axes>"
            ],
            "image/png": "[encoded data removed]"
          },
          "metadata": {
            "needs_background": "light"
          }
        }
      ],
      "source": [
        "X = torch.rand((1000, 1))\n",
        "Y = nlfunction(X)\n",
        "plt.plot(X,Y,'bo')"
      ]
    },
    {
      "cell_type": "code",
      "execution_count": 14,
      "id": "edeebea8",
      "metadata": {
        "id": "edeebea8"
      },
      "outputs": [],
      "source": [
        "class firstModel(nn.Module):\n",
        "    def __init__(self):\n",
        "        super().__init__()\n",
        "        self.fc1 = nn.Linear(1, 250)\n",
        "        self.fc2 = nn.Linear(250, 1)\n",
        "\n",
        "    def forward(self, val):\n",
        "        val = F.relu(self.fc1(val))\n",
        "        val = self.fc2(val)\n",
        "        return val"
      ]
    },
    {
      "cell_type": "code",
      "execution_count": 15,
      "id": "47d785d1",
      "metadata": {
        "id": "47d785d1"
      },
      "outputs": [],
      "source": [
        "class secondModel(nn.Module):\n",
        "   def __init__(self):\n",
        "        super().__init__()\n",
        "        self.fc1 = nn.Linear(1, 60)\n",
        "        self.fc2 = nn.Linear(60, 40)\n",
        "        self.fc3 = nn.Linear(40, 20)\n",
        "        self.fc4 = nn.Linear(20, 1)\n",
        "   def forward(self, val):\n",
        "        val = F.relu(self.fc1(val))\n",
        "        val = F.relu(self.fc2(val))\n",
        "        val = F.relu(self.fc3(val))\n",
        "        val = self.fc4(val)\n",
        "        return val"
      ]
    },
    {
      "cell_type": "code",
      "execution_count": 16,
      "id": "20e9e1fd",
      "metadata": {
        "id": "20e9e1fd"
      },
      "outputs": [],
      "source": [
        "class thirdModel(nn.Module):\n",
        "    def __init__(self):\n",
        "        super().__init__()\n",
        "        self.fc1 = nn.Linear(1, 50)\n",
        "        self.fc2 = nn.Linear(50, 40)\n",
        "        self.fc3 = nn.Linear(40, 30)\n",
        "        self.fc4 = nn.Linear(30, 20)\n",
        "        self.fc5 = nn.Linear(20, 10)\n",
        "        self.fc6 = nn.Linear(10, 1)\n",
        "\n",
        "    def forward(self, val):\n",
        "        val = F.relu(self.fc1(val))\n",
        "        val = F.relu(self.fc2(val))\n",
        "        val = F.relu(self.fc3(val))\n",
        "        val = F.relu(self.fc4(val))\n",
        "        val = F.relu(self.fc5(val))\n",
        "        val = self.fc6(val)\n",
        "        return val"
      ]
    },
    {
      "cell_type": "code",
      "source": [
        "mdl1 = firstModel()\n",
        "summary(mdl1,(1,))"
      ],
      "metadata": {
        "colab": {
          "base_uri": "https://localhost:8080/"
        },
        "id": "aLzOJ8cQcyNK",
        "outputId": "9758605f-982e-4e4e-b978-2495b215989f"
      },
      "id": "aLzOJ8cQcyNK",
      "execution_count": 17,
      "outputs": [
        {
          "output_type": "stream",
          "name": "stdout",
          "text": [
            "----------------------------------------------------------------\n",
            "        Layer (type)               Output Shape         Param #\n",
            "================================================================\n",
            "            Linear-1                  [-1, 250]             500\n",
            "            Linear-2                    [-1, 1]             251\n",
            "================================================================\n",
            "Total params: 751\n",
            "Trainable params: 751\n",
            "Non-trainable params: 0\n",
            "----------------------------------------------------------------\n",
            "Input size (MB): 0.00\n",
            "Forward/backward pass size (MB): 0.00\n",
            "Params size (MB): 0.00\n",
            "Estimated Total Size (MB): 0.00\n",
            "----------------------------------------------------------------\n"
          ]
        }
      ]
    },
    {
      "cell_type": "code",
      "source": [
        "mdl2 = secondModel()\n",
        "summary(mdl2,(1,))"
      ],
      "metadata": {
        "colab": {
          "base_uri": "https://localhost:8080/"
        },
        "id": "ZVecEpHclICx",
        "outputId": "d9a8ea22-5863-41af-a1df-c15ce968cf47"
      },
      "id": "ZVecEpHclICx",
      "execution_count": 18,
      "outputs": [
        {
          "output_type": "stream",
          "name": "stdout",
          "text": [
            "----------------------------------------------------------------\n",
            "        Layer (type)               Output Shape         Param #\n",
            "================================================================\n",
            "            Linear-1                   [-1, 60]             120\n",
            "            Linear-2                   [-1, 40]           2,440\n",
            "            Linear-3                   [-1, 20]             820\n",
            "            Linear-4                    [-1, 1]              21\n",
            "================================================================\n",
            "Total params: 3,401\n",
            "Trainable params: 3,401\n",
            "Non-trainable params: 0\n",
            "----------------------------------------------------------------\n",
            "Input size (MB): 0.00\n",
            "Forward/backward pass size (MB): 0.00\n",
            "Params size (MB): 0.01\n",
            "Estimated Total Size (MB): 0.01\n",
            "----------------------------------------------------------------\n"
          ]
        }
      ]
    },
    {
      "cell_type": "code",
      "source": [
        "mdl3 = thirdModel()\n",
        "summary(mdl3,(1,))"
      ],
      "metadata": {
        "colab": {
          "base_uri": "https://localhost:8080/"
        },
        "id": "TCBaMHLblHz2",
        "outputId": "8e89b260-ccd6-479a-f3c3-e9ec41243bd2"
      },
      "id": "TCBaMHLblHz2",
      "execution_count": 19,
      "outputs": [
        {
          "output_type": "stream",
          "name": "stdout",
          "text": [
            "----------------------------------------------------------------\n",
            "        Layer (type)               Output Shape         Param #\n",
            "================================================================\n",
            "            Linear-1                   [-1, 50]             100\n",
            "            Linear-2                   [-1, 40]           2,040\n",
            "            Linear-3                   [-1, 30]           1,230\n",
            "            Linear-4                   [-1, 20]             620\n",
            "            Linear-5                   [-1, 10]             210\n",
            "            Linear-6                    [-1, 1]              11\n",
            "================================================================\n",
            "Total params: 4,211\n",
            "Trainable params: 4,211\n",
            "Non-trainable params: 0\n",
            "----------------------------------------------------------------\n",
            "Input size (MB): 0.00\n",
            "Forward/backward pass size (MB): 0.00\n",
            "Params size (MB): 0.02\n",
            "Estimated Total Size (MB): 0.02\n",
            "----------------------------------------------------------------\n"
          ]
        }
      ]
    },
    {
      "cell_type": "code",
      "execution_count": 20,
      "id": "ef5d5960",
      "metadata": {
        "id": "ef5d5960"
      },
      "outputs": [],
      "source": [
        "lossFunc = nn.MSELoss()"
      ]
    },
    {
      "cell_type": "code",
      "execution_count": 21,
      "id": "91669939",
      "metadata": {
        "id": "91669939"
      },
      "outputs": [],
      "source": [
        "mdl4 = firstModel()\n",
        "mdl5 = secondModel()\n",
        "mdl6 = thirdModel()\n",
        "model4inOpt = optim.SGD(mdl4.parameters(), lr=0.001)\n",
        "model5inOpt = optim.SGD(mdl5.parameters(), lr=0.001)\n",
        "model6inOpt = optim.SGD(mdl6.parameters(),lr = 0.001)"
      ]
    },
    {
      "cell_type": "code",
      "execution_count": 22,
      "id": "825d105d",
      "metadata": {
        "colab": {
          "base_uri": "https://localhost:8080/"
        },
        "id": "825d105d",
        "outputId": "501e0e4b-4fe3-414c-b919-416b48db412c"
      },
      "outputs": [
        {
          "output_type": "stream",
          "name": "stdout",
          "text": [
            "epoch - 100 : loss -  0.627\n",
            "epoch - 200 : loss -  0.277\n",
            "epoch - 300 : loss -  0.153\n",
            "epoch - 400 : loss -  0.109\n",
            "epoch - 500 : loss -  0.092\n",
            "epoch - 600 : loss -  0.085\n",
            "epoch - 700 : loss -  0.082\n",
            "epoch - 800 : loss -  0.079\n",
            "epoch - 900 : loss -  0.077\n",
            "epoch - 1000 : loss -  0.075\n"
          ]
        }
      ],
      "source": [
        "model1inOpt = optim.SGD(mdl1.parameters(), lr=0.001)\n",
        "model2inOpt = optim.SGD(mdl2.parameters(), lr=0.001)\n",
        "model3inOpt = optim.SGD(mdl3.parameters(),lr = 0.001)\n",
        "EPOCHS = 1000\n",
        "model1Cost = []\n",
        "for index in range(EPOCHS):\n",
        "    output = mdl1.forward(X)\n",
        "    cost = lossFunc(output, Y)\n",
        "    cost.backward()\n",
        "    model1inOpt.step()\n",
        "    mdl1.zero_grad()\n",
        "    model1Cost.append(cost.detach().numpy())\n",
        "    if(index+1)%100 == 0:\n",
        "      print(f'epoch - {index+1} : loss - {cost.item(): .3f}')\n"
      ]
    },
    {
      "cell_type": "code",
      "source": [
        "model2Cost = []\n",
        "for index in range(EPOCHS):\n",
        "    mdl2.zero_grad()\n",
        "    output = mdl2(X)\n",
        "    cost = lossFunc(output, Y)\n",
        "    model2Cost.append(cost.detach().numpy())\n",
        "    cost.backward()\n",
        "    model2inOpt.step()\n",
        "    if(index+1)%100 == 0:\n",
        "      print(f'epoch - {index+1} : loss - {cost.item(): .3f}')"
      ],
      "metadata": {
        "colab": {
          "base_uri": "https://localhost:8080/"
        },
        "id": "82yjxYvDkcA6",
        "outputId": "3112c6ac-fe28-4973-e133-f2b428491c87"
      },
      "id": "82yjxYvDkcA6",
      "execution_count": 23,
      "outputs": [
        {
          "output_type": "stream",
          "name": "stdout",
          "text": [
            "epoch - 100 : loss -  5.332\n",
            "epoch - 200 : loss -  1.474\n",
            "epoch - 300 : loss -  1.131\n",
            "epoch - 400 : loss -  0.804\n",
            "epoch - 500 : loss -  0.507\n",
            "epoch - 600 : loss -  0.280\n",
            "epoch - 700 : loss -  0.145\n",
            "epoch - 800 : loss -  0.084\n",
            "epoch - 900 : loss -  0.061\n",
            "epoch - 1000 : loss -  0.052\n"
          ]
        }
      ]
    },
    {
      "cell_type": "code",
      "source": [
        "model3Cost = []\n",
        "\n",
        "for index in range(EPOCHS):\n",
        "    mdl3.zero_grad()\n",
        "    output = mdl3(X)\n",
        "    cost = lossFunc(output, Y)\n",
        "    model3Cost.append(cost.detach().numpy())\n",
        "    cost.backward()\n",
        "    model3inOpt.step()\n",
        "    if(index+1)%100 == 0:\n",
        "      print(f'epoch - {index+1} : loss - {cost.item(): .3f}')"
      ],
      "metadata": {
        "colab": {
          "base_uri": "https://localhost:8080/"
        },
        "id": "daaGDQS5lvHj",
        "outputId": "942f7b55-335f-425b-c677-0786bd4a53e4"
      },
      "id": "daaGDQS5lvHj",
      "execution_count": 24,
      "outputs": [
        {
          "output_type": "stream",
          "name": "stdout",
          "text": [
            "epoch - 100 : loss -  10.082\n",
            "epoch - 200 : loss -  6.640\n",
            "epoch - 300 : loss -  4.199\n",
            "epoch - 400 : loss -  3.231\n",
            "epoch - 500 : loss -  3.036\n",
            "epoch - 600 : loss -  2.952\n",
            "epoch - 700 : loss -  2.838\n",
            "epoch - 800 : loss -  2.641\n",
            "epoch - 900 : loss -  2.284\n",
            "epoch - 1000 : loss -  1.626\n"
          ]
        }
      ]
    },
    {
      "cell_type": "code",
      "source": [
        "Y1 = torch.cos(X)\n",
        "plt.plot(X,Y1,'ro')"
      ],
      "metadata": {
        "colab": {
          "base_uri": "https://localhost:8080/",
          "height": 283
        },
        "id": "gcMjTty1oN3a",
        "outputId": "d8a9848b-57ce-46fb-cb29-07fc6c87470d"
      },
      "id": "gcMjTty1oN3a",
      "execution_count": 25,
      "outputs": [
        {
          "output_type": "execute_result",
          "data": {
            "text/plain": [
              "[<matplotlib.lines.Line2D at 0x7fe1058a0dc0>]"
            ]
          },
          "metadata": {},
          "execution_count": 25
        },
        {
          "output_type": "display_data",
          "data": {
            "text/plain": [
              "<Figure size 432x288 with 1 Axes>"
            ],
            "image/png": "[encoded data removed]"
          },
          "metadata": {
            "needs_background": "light"
          }
        }
      ]
    },
    {
      "cell_type": "code",
      "source": [
        "EPOCHS = 1000\n",
        "model4Cost = []\n",
        "for index in range(EPOCHS):\n",
        "    mdl4.zero_grad()\n",
        "    output = mdl4(X)\n",
        "    cost = lossFunc(output, Y1)\n",
        "    model4Cost.append(cost.detach().numpy())\n",
        "    cost.backward()\n",
        "    model4inOpt.step()\n",
        "    if(index+1)%100 == 0:\n",
        "      print(f'epoch - {index+1} : loss - {cost.item(): .3f}')\n",
        "\n",
        "\n",
        "model5Cost = []\n",
        "\n",
        "for index in range(EPOCHS):\n",
        "    mdl5.zero_grad()\n",
        "    output = mdl5(X)\n",
        "    cost = lossFunc(output, Y1)\n",
        "    model5Cost.append(cost.detach().numpy())\n",
        "    cost.backward()\n",
        "    model5inOpt.step()\n",
        "    if(index+1)%100 == 0:\n",
        "      print(f'epoch - {index+1} : loss - {cost.item(): .3f}')\n",
        "\n",
        "\n",
        "model6Cost = []\n",
        "\n",
        "for index in range(EPOCHS):\n",
        "    mdl6.zero_grad()\n",
        "    output = mdl6(X)\n",
        "    cost = lossFunc(output, Y1)\n",
        "    model6Cost.append(cost.detach().numpy())\n",
        "    cost.backward()\n",
        "    model6inOpt.step()\n",
        "    if(index+1)%100 == 0:\n",
        "      print(f'epoch - {index+1} : loss - {cost.item(): .3f}')"
      ],
      "metadata": {
        "colab": {
          "base_uri": "https://localhost:8080/"
        },
        "id": "TFX2WaN-nWz2",
        "outputId": "7a5e8450-486c-4bea-e2d9-44a6631f3a66"
      },
      "id": "TFX2WaN-nWz2",
      "execution_count": 26,
      "outputs": [
        {
          "output_type": "stream",
          "name": "stdout",
          "text": [
            "epoch - 100 : loss -  0.017\n",
            "epoch - 200 : loss -  0.007\n",
            "epoch - 300 : loss -  0.003\n",
            "epoch - 400 : loss -  0.002\n",
            "epoch - 500 : loss -  0.001\n",
            "epoch - 600 : loss -  0.001\n",
            "epoch - 700 : loss -  0.001\n",
            "epoch - 800 : loss -  0.001\n",
            "epoch - 900 : loss -  0.001\n",
            "epoch - 1000 : loss -  0.001\n",
            "epoch - 100 : loss -  0.219\n",
            "epoch - 200 : loss -  0.093\n",
            "epoch - 300 : loss -  0.052\n",
            "epoch - 400 : loss -  0.041\n",
            "epoch - 500 : loss -  0.037\n",
            "epoch - 600 : loss -  0.035\n",
            "epoch - 700 : loss -  0.034\n",
            "epoch - 800 : loss -  0.032\n",
            "epoch - 900 : loss -  0.031\n",
            "epoch - 1000 : loss -  0.030\n",
            "epoch - 100 : loss -  0.194\n",
            "epoch - 200 : loss -  0.117\n",
            "epoch - 300 : loss -  0.074\n",
            "epoch - 400 : loss -  0.050\n",
            "epoch - 500 : loss -  0.036\n",
            "epoch - 600 : loss -  0.029\n",
            "epoch - 700 : loss -  0.025\n",
            "epoch - 800 : loss -  0.023\n",
            "epoch - 900 : loss -  0.021\n",
            "epoch - 1000 : loss -  0.021\n"
          ]
        }
      ]
    },
    {
      "cell_type": "code",
      "source": [
        "plt.plot(range(EPOCHS), model1Cost, 'b', label='Model 1')\n",
        "plt.plot(range(EPOCHS), model2Cost, 'r', label='Model 2')\n",
        "plt.plot(range(EPOCHS), model3Cost, 'g', label='Model 3')\n",
        "plt.title(\"Learning Progression\")\n",
        "plt.xlabel(\"EPOCHS\")\n",
        "plt.ylabel(\"Loss\")\n",
        "plt.legend()\n",
        "plt.show()"
      ],
      "metadata": {
        "colab": {
          "base_uri": "https://localhost:8080/",
          "height": 295
        },
        "id": "5Ma-Y5NlpUzy",
        "outputId": "0afce49c-e635-4cd9-d181-1ad879373a7c"
      },
      "id": "5Ma-Y5NlpUzy",
      "execution_count": 27,
      "outputs": [
        {
          "output_type": "display_data",
          "data": {
            "text/plain": [
              "<Figure size 432x288 with 1 Axes>"
            ],
            "image/png": "[encoded data removed]"
          },
          "metadata": {
            "needs_background": "light"
          }
        }
      ]
    },
    {
      "cell_type": "code",
      "source": [
        "plt.plot(range(EPOCHS), model4Cost, 'r', label='Model 1')\n",
        "plt.plot(range(EPOCHS), model5Cost, 'b', label='Model 2')\n",
        "plt.plot(range(EPOCHS), model6Cost, 'g', label='Model 3')\n",
        "plt.title(\"Learning Progression\")\n",
        "plt.xlabel(\"EPOCHS\")\n",
        "plt.ylabel(\"Loss\")\n",
        "plt.legend()\n",
        "plt.show()"
      ],
      "metadata": {
        "colab": {
          "base_uri": "https://localhost:8080/",
          "height": 295
        },
        "id": "LW2DpArNpWdY",
        "outputId": "9e6fd849-9652-4833-9aa5-29bedc77aaa6"
      },
      "id": "LW2DpArNpWdY",
      "execution_count": 28,
      "outputs": [
        {
          "output_type": "display_data",
          "data": {
            "text/plain": [
              "<Figure size 432x288 with 1 Axes>"
            ],
            "image/png": "[encoded data removed]"
          },
          "metadata": {
            "needs_background": "light"
          }
        }
      ]
    },
    {
      "cell_type": "code",
      "source": [
        "model1_pred = mdl1(X)\n",
        "model2_pred = mdl2(X)\n",
        "model3_pred = mdl3(X)\n",
        "\n",
        "plt.plot(X.tolist(), model1_pred.tolist(), 'r.', label='Model 1')\n",
        "plt.plot(X.tolist(), model2_pred.tolist(), 'b.', label='Model 2')\n",
        "plt.plot(X.tolist(), model3_pred.tolist(), 'g.', label='Model 3')\n",
        "plt.plot(X, Y.tolist(), 'c.', label='Actual')\n",
        "plt.title(\"Predictions of Models vs Actual\")\n",
        "plt.xlabel(\"Input\")\n",
        "plt.ylabel(\"Output\")\n",
        "plt.legend()\n",
        "plt.show()"
      ],
      "metadata": {
        "colab": {
          "base_uri": "https://localhost:8080/",
          "height": 295
        },
        "id": "nh89HJBXpWUA",
        "outputId": "424b8bae-e063-4719-d045-3f174f1beba9"
      },
      "id": "nh89HJBXpWUA",
      "execution_count": 29,
      "outputs": [
        {
          "output_type": "display_data",
          "data": {
            "text/plain": [
              "<Figure size 432x288 with 1 Axes>"
            ],
            "image/png": "[encoded data removed]"
          },
          "metadata": {
            "needs_background": "light"
          }
        }
      ]
    },
    {
      "cell_type": "code",
      "source": [
        "model4_pred = mdl4(X)\n",
        "model5_pred = mdl5(X)\n",
        "model6_pred = mdl6(X)\n",
        "\n",
        "plt.plot(X.tolist(), model4_pred.tolist(), 'r.', label='Model 1')\n",
        "plt.plot(X.tolist(), model5_pred.tolist(), 'g.', label='Model 2')\n",
        "plt.plot(X.tolist(), model6_pred.tolist(), 'b.', label='Model 3')\n",
        "plt.plot(X, Y1.tolist(), 'c.', label='Actual')\n",
        "plt.title(\"Predictions of Models vs Actual\")\n",
        "plt.xlabel(\"Input\")\n",
        "plt.ylabel(\"Output\")\n",
        "plt.legend()\n",
        "plt.show()"
      ],
      "metadata": {
        "colab": {
          "base_uri": "https://localhost:8080/",
          "height": 295
        },
        "id": "3-Kor2rWpWLt",
        "outputId": "2c7ca4aa-6ebd-4a33-ab53-55f35b31fbd1"
      },
      "id": "3-Kor2rWpWLt",
      "execution_count": 30,
      "outputs": [
        {
          "output_type": "display_data",
          "data": {
            "text/plain": [
              "<Figure size 432x288 with 1 Axes>"
            ],
            "image/png": "[encoded data removed]"
          },
          "metadata": {
            "needs_background": "light"
          }
        }
      ]
    },
    {
      "cell_type": "code",
      "source": [],
      "metadata": {
        "id": "9g9UfYsrpWBQ"
      },
      "id": "9g9UfYsrpWBQ",
      "execution_count": 30,
      "outputs": []
    }
  ],
  "metadata": {
    "kernelspec": {
      "display_name": "Python 3 (ipykernel)",
      "language": "python",
      "name": "python3"
    },
    "language_info": {
      "codemirror_mode": {
        "name": "ipython",
        "version": 3
      },
      "file_extension": ".py",
      "mimetype": "text/x-python",
      "name": "python",
      "nbconvert_exporter": "python",
      "pygments_lexer": "ipython3",
      "version": "3.9.12"
    },
    "colab": {
      "provenance": []
    }
  },
  "nbformat": 4,
  "nbformat_minor": 5
}