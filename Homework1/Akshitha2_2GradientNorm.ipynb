{
  "nbformat": 4,
  "nbformat_minor": 0,
  "metadata": {
    "colab": {
      "provenance": []
    },
    "kernelspec": {
      "name": "python3",
      "display_name": "Python 3"
    },
    "language_info": {
      "name": "python"
    }
  },
  "cells": [
    {
      "cell_type": "code",
      "execution_count": 1,
      "metadata": {
        "id": "dmP68d2EghDl"
      },
      "outputs": [],
      "source": [
        "import numpy as np\n",
        "import torch\n",
        "import torchvision as tv\n",
        "from torchvision import transforms, datasets\n",
        "import torch.nn as nn\n",
        "import torch.nn.functional as F\n",
        "import torch.optim as optim\n",
        "import matplotlib.pyplot as plt\n",
        "import math\n",
        "%matplotlib inline\n",
        "from matplotlib.rcsetup import validate_color"
      ]
    },
    {
      "cell_type": "code",
      "source": [
        "def nlfunction(x):\n",
        "   return (x**3 + 2*x**2 + 3*x + 1)   "
      ],
      "metadata": {
        "id": "gmzsB3cBhC1y"
      },
      "execution_count": 2,
      "outputs": []
    },
    {
      "cell_type": "code",
      "source": [
        "X = torch.rand((1000, 1))\n",
        "Y = nlfunction(X)"
      ],
      "metadata": {
        "id": "hLZ4aPptgtJz"
      },
      "execution_count": 3,
      "outputs": []
    },
    {
      "cell_type": "code",
      "source": [
        "class Gradient(nn.Module):\n",
        "  def __init__(self):\n",
        "        super().__init__()\n",
        "        self.fc1 = nn.Linear(1, 64)\n",
        "        self.fc2 = nn.Linear(64, 128)\n",
        "        self.fc3 = nn.Linear(128, 10)\n",
        "        self.fc4 = nn.Linear(10, 1)\n",
        "        \n",
        "  def forward(self, val):\n",
        "        val = F.relu(self.fc1(val))\n",
        "        val = F.relu(self.fc2(val))\n",
        "        val = F.relu(self.fc3(val))\n",
        "        validate_color = self.fc4(val)\n",
        "        return val\n",
        "        \n",
        "  "
      ],
      "metadata": {
        "id": "1w3QVxatgs8P"
      },
      "execution_count": 4,
      "outputs": []
    },
    {
      "cell_type": "code",
      "source": [
        "model2 = Gradient()\n",
        "lossFunc = nn.MSELoss()\n",
        "opt = optim.Adam(model2.parameters(), lr=0.001)\n",
        "EPOCHS = 800"
      ],
      "metadata": {
        "id": "jZW3uJQVqFjw"
      },
      "execution_count": 5,
      "outputs": []
    },
    {
      "cell_type": "code",
      "source": [
        "# Train Network \n",
        "model2Cost = []\n",
        "gradNormList = []\n",
        "for index in range(EPOCHS):\n",
        "    model2.zero_grad()\n",
        "    output = model2(X)\n",
        "    cost = lossFunc(output, Y)\n",
        "    model2Cost.append(cost.detach().numpy())\n",
        "    cost.backward()\n",
        "    opt.step() \n",
        "    \n",
        "    # Get gradient norm (From slides)\n",
        "    gradAll = 0.0\n",
        "    for p in model2.parameters():\n",
        "        grad = 0.0\n",
        "        if p.grad is not None:\n",
        "            grad = (p.grad.cpu().data.numpy() ** 2).sum()\n",
        "        gradAll += grad\n",
        "    gradNorm = gradAll ** 0.5\n",
        "    gradNormList.append(gradNorm)"
      ],
      "metadata": {
        "colab": {
          "base_uri": "https://localhost:8080/"
        },
        "id": "KJnrcS-LqJVJ",
        "outputId": "9f7ebdfc-5c6d-4743-a52d-1081f70633ed"
      },
      "execution_count": 6,
      "outputs": [
        {
          "output_type": "stream",
          "name": "stderr",
          "text": [
            "/usr/local/lib/python3.8/dist-packages/torch/nn/modules/loss.py:536: UserWarning: Using a target size (torch.Size([1000, 1])) that is different to the input size (torch.Size([1000, 10])). This will likely lead to incorrect results due to broadcasting. Please ensure they have the same size.\n",
            "  return F.mse_loss(input, target, reduction=self.reduction)\n"
          ]
        }
      ]
    },
    {
      "cell_type": "code",
      "source": [
        "plt.plot(range(EPOCHS), model2Cost, 'r', label='Model')\n",
        "plt.title(\"Learning Progression\")\n",
        "plt.xlabel(\"EPOCHS\")\n",
        "plt.ylabel(\"Loss\")\n",
        "plt.legend()\n",
        "plt.show()"
      ],
      "metadata": {
        "colab": {
          "base_uri": "https://localhost:8080/",
          "height": 295
        },
        "id": "rSMjJN4UqLg_",
        "outputId": "9ff3950c-e9cc-48fd-df4e-9bc915b7703d"
      },
      "execution_count": 7,
      "outputs": [
        {
          "output_type": "display_data",
          "data": {
            "text/plain": [
              "<Figure size 432x288 with 1 Axes>"
            ],
            "image/png": "[encoded data removed]"
          },
          "metadata": {
            "needs_background": "light"
          }
        }
      ]
    },
    {
      "cell_type": "code",
      "source": [
        "plt.plot(range(EPOCHS), gradNormList, 'r', label='Model')\n",
        "plt.title(\"Gradient Norm during Training\")\n",
        "plt.xlabel(\"EPOCHS\")\n",
        "plt.ylabel(\"Gradient Norm\")\n",
        "plt.legend()\n",
        "plt.show()"
      ],
      "metadata": {
        "colab": {
          "base_uri": "https://localhost:8080/",
          "height": 295
        },
        "id": "38G-WlnlqOta",
        "outputId": "89b77a19-e2e0-48a9-8ed8-6ccb328f5f45"
      },
      "execution_count": 8,
      "outputs": [
        {
          "output_type": "display_data",
          "data": {
            "text/plain": [
              "<Figure size 432x288 with 1 Axes>"
            ],
            "image/png": "[encoded data removed]"
          },
          "metadata": {
            "needs_background": "light"
          }
        }
      ]
    }
  ]
}