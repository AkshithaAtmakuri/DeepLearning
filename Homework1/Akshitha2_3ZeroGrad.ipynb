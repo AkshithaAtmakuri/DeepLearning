{
  "nbformat": 4,
  "nbformat_minor": 0,
  "metadata": {
    "colab": {
      "provenance": []
    },
    "kernelspec": {
      "name": "python3",
      "display_name": "Python 3"
    },
    "language_info": {
      "name": "python"
    }
  },
  "cells": [
    {
      "cell_type": "code",
      "execution_count": 82,
      "metadata": {
        "id": "AFsYP0rbzEeo"
      },
      "outputs": [],
      "source": [
        "import torch\n",
        "import torch.nn as nn\n",
        "import torch.nn.functional as F\n",
        "import torch.optim as optim\n",
        "from torchvision import datasets, transforms\n",
        "import matplotlib.pyplot as plt\n",
        "import numpy as np\n",
        "from torchsummary import summary"
      ]
    },
    {
      "cell_type": "code",
      "source": [
        "def nlfunction(x):\n",
        "    return (x**3 + 2*x**2 + 3*x + 1)   "
      ],
      "metadata": {
        "id": "Pu-7kUJqzmdI"
      },
      "execution_count": 83,
      "outputs": []
    },
    {
      "cell_type": "code",
      "source": [
        "X = torch.linspace(-5, 5, 100).unsqueeze(1)\n",
        "Y = nlfunction(X)\n",
        "XTrain = torch.tensor(X,dtype=torch.float32)\n",
        "yTrain = torch.tensor(Y,dtype=torch.float32)\n",
        "XTrain = XTrain.view(XTrain.shape[0],1)\n",
        "yTrain = yTrain.view(yTrain.shape[0],1)\n",
        "plt.plot(X,Y,'b')"
      ],
      "metadata": {
        "colab": {
          "base_uri": "https://localhost:8080/",
          "height": 375
        },
        "id": "LDAP8IwTzPRl",
        "outputId": "fef9a1cf-ade5-424e-c272-de9960c76932"
      },
      "execution_count": 84,
      "outputs": [
        {
          "output_type": "stream",
          "name": "stderr",
          "text": [
            "<ipython-input-84-56619589feda>:3: UserWarning: To copy construct from a tensor, it is recommended to use sourceTensor.clone().detach() or sourceTensor.clone().detach().requires_grad_(True), rather than torch.tensor(sourceTensor).\n",
            "  XTrain = torch.tensor(X,dtype=torch.float32)\n",
            "<ipython-input-84-56619589feda>:4: UserWarning: To copy construct from a tensor, it is recommended to use sourceTensor.clone().detach() or sourceTensor.clone().detach().requires_grad_(True), rather than torch.tensor(sourceTensor).\n",
            "  yTrain = torch.tensor(Y,dtype=torch.float32)\n"
          ]
        },
        {
          "output_type": "execute_result",
          "data": {
            "text/plain": [
              "[<matplotlib.lines.Line2D at 0x7f46d5bb57f0>]"
            ]
          },
          "metadata": {},
          "execution_count": 84
        },
        {
          "output_type": "display_data",
          "data": {
            "text/plain": [
              "<Figure size 432x288 with 1 Axes>"
            ],
            "image/png": "[encoded data removed]"
          },
          "metadata": {
            "needs_background": "light"
          }
        }
      ]
    },
    {
      "cell_type": "code",
      "source": [
        "class Model1(nn.Module):\n",
        "   def __init__(self):\n",
        "        super().__init__()\n",
        "        self.fc1 = nn.Linear(1, 60)\n",
        "        self.fc2 = nn.Linear(60, 40)\n",
        "        self.fc3 = nn.Linear(40, 20)\n",
        "        self.fc4 = nn.Linear(20, 1)\n",
        "   def forward(self, val):\n",
        "        val = F.relu(self.fc1(val))\n",
        "        val = F.relu(self.fc2(val))\n",
        "        val = F.relu(self.fc3(val))\n",
        "        val = self.fc4(val)\n",
        "        return val"
      ],
      "metadata": {
        "id": "6kWiHy2l0HEE"
      },
      "execution_count": 85,
      "outputs": []
    },
    {
      "cell_type": "code",
      "source": [
        "model1 = Model1()\n",
        "summary(model1,(1,))"
      ],
      "metadata": {
        "colab": {
          "base_uri": "https://localhost:8080/"
        },
        "id": "LfjeSrZe0w5X",
        "outputId": "e7f971ca-1f01-4646-a896-421fc4621feb"
      },
      "execution_count": 86,
      "outputs": [
        {
          "output_type": "stream",
          "name": "stdout",
          "text": [
            "----------------------------------------------------------------\n",
            "        Layer (type)               Output Shape         Param #\n",
            "================================================================\n",
            "            Linear-1                   [-1, 60]             120\n",
            "            Linear-2                   [-1, 40]           2,440\n",
            "            Linear-3                   [-1, 20]             820\n",
            "            Linear-4                    [-1, 1]              21\n",
            "================================================================\n",
            "Total params: 3,401\n",
            "Trainable params: 3,401\n",
            "Non-trainable params: 0\n",
            "----------------------------------------------------------------\n",
            "Input size (MB): 0.00\n",
            "Forward/backward pass size (MB): 0.00\n",
            "Params size (MB): 0.01\n",
            "Estimated Total Size (MB): 0.01\n",
            "----------------------------------------------------------------\n"
          ]
        }
      ]
    },
    {
      "cell_type": "code",
      "source": [
        "lossFunc = nn.MSELoss()\n",
        "opt = optim.Adam(model1.parameters(), lr=0.001)"
      ],
      "metadata": {
        "id": "3gs_TyQC01HJ"
      },
      "execution_count": 87,
      "outputs": []
    },
    {
      "cell_type": "code",
      "source": [
        "# train the model\n",
        "minRatios = []\n",
        "losses = []\n",
        "for i in range(100):\n",
        "    output = model1(XTrain)\n",
        "    loss = lossFunc(output, yTrain)\n",
        "    opt.zero_grad()\n",
        "    loss.backward()\n",
        "    if (i+1)%10 == 0:\n",
        "        print(f'Epoch : {i+1} Loss: {loss.item(): .3f}')\n",
        "   \n",
        "    with torch.no_grad():\n",
        "        minRatio = float(\"inf\")\n",
        "        for name, param in model1.named_parameters():\n",
        "            if not param.requires_grad:\n",
        "                continue\n",
        "            paramGrad = param.grad.reshape(-1)\n",
        "            hessian = torch.zeros((paramGrad.shape[0], paramGrad.shape[0]))\n",
        "            for j, grad_j in enumerate(paramGrad):\n",
        "                grad_j.requires_grad_()\n",
        "                gradOutput = torch.autograd.grad(grad_j, param, retain_graph=True, create_graph=True,allow_unused=True)[0]\n",
        "                if(gradOutput is not None):\n",
        "                    gradOutput = gradOutput.reshape(-1)\n",
        "                    hessian[j] = gradOutput\n",
        "            eigenVals, _ = torch.linalg.eig(hessian)\n",
        "            eigenVals = eigenVals.abs()\n",
        "            minRatio = min(minRatio, param.abs().min().item() / (eigenVals.max().item() + 1e-7))\n",
        "        minRatios.append(minRatio)\n",
        "        losses.append(loss.item())\n",
        "\n",
        "    opt.step()\n"
      ],
      "metadata": {
        "colab": {
          "base_uri": "https://localhost:8080/"
        },
        "id": "qz76834u06Kl",
        "outputId": "52cdcb46-e56f-4a66-d980-e4aabad12a3a"
      },
      "execution_count": 88,
      "outputs": [
        {
          "output_type": "stream",
          "name": "stdout",
          "text": [
            "Epoch : 10 Loss:  3751.370\n",
            "Epoch : 20 Loss:  3710.208\n",
            "Epoch : 30 Loss:  3644.243\n",
            "Epoch : 40 Loss:  3536.659\n",
            "Epoch : 50 Loss:  3366.219\n",
            "Epoch : 60 Loss:  3108.027\n",
            "Epoch : 70 Loss:  2745.524\n",
            "Epoch : 80 Loss:  2269.150\n",
            "Epoch : 90 Loss:  1709.276\n",
            "Epoch : 100 Loss:  1141.968\n"
          ]
        }
      ]
    },
    {
      "cell_type": "code",
      "source": [
        "plt1 = plt.figure(figsize=(10, 6))\n",
        "plt.scatter(minRatios, losses,alpha=0.6)\n",
        "plt.xlabel('Minimal Ratio')\n",
        "plt.ylabel('Loss')\n",
        "plt.title('Minimal Ratio vs Loss')\n",
        "plt.show()"
      ],
      "metadata": {
        "colab": {
          "base_uri": "https://localhost:8080/",
          "height": 404
        },
        "id": "Re8DMZkd2BKh",
        "outputId": "f21eef35-9474-409e-dfe6-ace54a330973"
      },
      "execution_count": 89,
      "outputs": [
        {
          "output_type": "display_data",
          "data": {
            "text/plain": [
              "<Figure size 720x432 with 1 Axes>"
            ],
            "image/png": "[encoded data removed]"
          },
          "metadata": {
            "needs_background": "light"
          }
        }
      ]
    }
  ]
}