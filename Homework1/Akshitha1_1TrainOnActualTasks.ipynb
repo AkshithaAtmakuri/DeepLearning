{
  "nbformat": 4,
  "nbformat_minor": 0,
  "metadata": {
    "colab": {
      "provenance": []
    },
    "kernelspec": {
      "name": "python3",
      "display_name": "Python 3"
    },
    "language_info": {
      "name": "python"
    }
  },
  "cells": [
    {
      "cell_type": "code",
      "execution_count": 20,
      "metadata": {
        "id": "TWu2njs0r1ew"
      },
      "outputs": [],
      "source": [
        "import numpy as np\n",
        "import torch\n",
        "import torchvision as tv\n",
        "from torchvision import transforms, datasets\n",
        "from torchvision.transforms import ToTensor\n",
        "import torch.nn as nn\n",
        "import torch.nn.functional as F\n",
        "import torch.optim as optim\n",
        "import matplotlib.pyplot as plt\n",
        "from torchsummary import summary"
      ]
    },
    {
      "cell_type": "code",
      "source": [
        "trainingDataSet = datasets.MNIST('', train=True, download=True, transform=ToTensor())\n",
        "testingDataSet = datasets.MNIST('', train=False, download=True, transform=ToTensor())\n",
        "trainDataLoader = torch.utils.data.DataLoader(trainingDataSet, batch_size=50, shuffle=True)\n",
        "testDataLoader = torch.utils.data.DataLoader(testingDataSet, batch_size=50, shuffle=True)"
      ],
      "metadata": {
        "id": "xEpzZvemtZsa"
      },
      "execution_count": 21,
      "outputs": []
    },
    {
      "cell_type": "code",
      "source": [
        "class Model1(nn.Module):\n",
        "    def __init__(self):\n",
        "        super().__init__()\n",
        "        self.fc1 = nn.Linear(784, 256)\n",
        "        self.fc2 = nn.Linear(256, 10)\n",
        "\n",
        "    def forward(self, val):\n",
        "        val = F.relu(self.fc1(val))\n",
        "        val = self.fc2(val)\n",
        "        return val\n",
        "\n",
        "class Model2(nn.Module): \n",
        "    def __init__(self):\n",
        "        super().__init__()\n",
        "        self.fc1 = nn.Linear(784, 20)\n",
        "        self.fc2 = nn.Linear(20, 30)\n",
        "        self.fc3 = nn.Linear(30, 10)\n",
        "\n",
        "    def forward(self, val):\n",
        "        val = F.relu(self.fc1(val))\n",
        "        val = F.relu(self.fc2(val))\n",
        "        val = self.fc3(val)\n",
        "        return val\n",
        "\n",
        "class Model3(nn.Module):\n",
        "    def __init__(self):\n",
        "        super(Model3, self).__init__()\n",
        "        self.fc1 = nn.Linear(784, 256)\n",
        "        self.fc2 = nn.Linear(256, 128)\n",
        "        self.fc3 = nn.Linear(128, 64)\n",
        "        self.fc4 = nn.Linear(64, 10)\n",
        "\n",
        "    def forward(self, val):\n",
        "        val = val.view(-1, 28 * 28)\n",
        "        val = F.relu(self.fc1(val))\n",
        "        val = F.relu(self.fc2(val))\n",
        "        val = F.relu(self.fc3(val))\n",
        "        val = self.fc4(val)\n",
        "        return val\n"
      ],
      "metadata": {
        "id": "0ImPJex9uqif"
      },
      "execution_count": 33,
      "outputs": []
    },
    {
      "cell_type": "code",
      "source": [
        "mdl1 = Model1()\n",
        "summary(mdl1,(28*28,))"
      ],
      "metadata": {
        "colab": {
          "base_uri": "https://localhost:8080/"
        },
        "id": "UNWLK8LQqfVe",
        "outputId": "7e9142ee-249a-4e12-8a17-7bb56c6fc239"
      },
      "execution_count": 23,
      "outputs": [
        {
          "output_type": "stream",
          "name": "stdout",
          "text": [
            "----------------------------------------------------------------\n",
            "        Layer (type)               Output Shape         Param #\n",
            "================================================================\n",
            "            Linear-1                  [-1, 256]         200,960\n",
            "            Linear-2                   [-1, 10]           2,570\n",
            "================================================================\n",
            "Total params: 203,530\n",
            "Trainable params: 203,530\n",
            "Non-trainable params: 0\n",
            "----------------------------------------------------------------\n",
            "Input size (MB): 0.00\n",
            "Forward/backward pass size (MB): 0.00\n",
            "Params size (MB): 0.78\n",
            "Estimated Total Size (MB): 0.78\n",
            "----------------------------------------------------------------\n"
          ]
        }
      ]
    },
    {
      "cell_type": "code",
      "source": [
        "mdl2 = Model2()\n",
        "summary(mdl2,(28*28,))"
      ],
      "metadata": {
        "colab": {
          "base_uri": "https://localhost:8080/"
        },
        "id": "FB1eXXL6qhVb",
        "outputId": "c0047388-a4fd-47fd-fec3-e173b1bc8d32"
      },
      "execution_count": 24,
      "outputs": [
        {
          "output_type": "stream",
          "name": "stdout",
          "text": [
            "----------------------------------------------------------------\n",
            "        Layer (type)               Output Shape         Param #\n",
            "================================================================\n",
            "            Linear-1                   [-1, 20]          15,700\n",
            "            Linear-2                   [-1, 30]             630\n",
            "            Linear-3                   [-1, 10]             310\n",
            "================================================================\n",
            "Total params: 16,640\n",
            "Trainable params: 16,640\n",
            "Non-trainable params: 0\n",
            "----------------------------------------------------------------\n",
            "Input size (MB): 0.00\n",
            "Forward/backward pass size (MB): 0.00\n",
            "Params size (MB): 0.06\n",
            "Estimated Total Size (MB): 0.07\n",
            "----------------------------------------------------------------\n"
          ]
        }
      ]
    },
    {
      "cell_type": "code",
      "source": [
        "mdl3 = Model3()\n",
        "summary(mdl3,(28*28,))"
      ],
      "metadata": {
        "colab": {
          "base_uri": "https://localhost:8080/"
        },
        "id": "PCuGhdrurOW1",
        "outputId": "02060de7-fbf9-49af-b224-575c33b7276f"
      },
      "execution_count": 34,
      "outputs": [
        {
          "output_type": "stream",
          "name": "stdout",
          "text": [
            "----------------------------------------------------------------\n",
            "        Layer (type)               Output Shape         Param #\n",
            "================================================================\n",
            "            Linear-1                  [-1, 256]         200,960\n",
            "            Linear-2                  [-1, 128]          32,896\n",
            "            Linear-3                   [-1, 64]           8,256\n",
            "            Linear-4                   [-1, 10]             650\n",
            "================================================================\n",
            "Total params: 242,762\n",
            "Trainable params: 242,762\n",
            "Non-trainable params: 0\n",
            "----------------------------------------------------------------\n",
            "Input size (MB): 0.00\n",
            "Forward/backward pass size (MB): 0.00\n",
            "Params size (MB): 0.93\n",
            "Estimated Total Size (MB): 0.93\n",
            "----------------------------------------------------------------\n"
          ]
        }
      ]
    },
    {
      "cell_type": "code",
      "source": [
        "lossFunc = nn.CrossEntropyLoss()\n",
        "model1inOpt = optim.Adam(mdl1.parameters(), lr=0.001)\n",
        "model2inOpt = optim.Adam(mdl2.parameters(), lr=0.001)\n",
        "model3inOpt = optim.Adam(mdl3.parameters(),lr=0.001)"
      ],
      "metadata": {
        "id": "zK-GYPHLvTs6"
      },
      "execution_count": 26,
      "outputs": []
    },
    {
      "cell_type": "code",
      "source": [
        "def calcParams(inputModel):\n",
        "    val = sum(params.numel() for params in inputModel.parameters() if params.requires_grad)\n",
        "    return val\n",
        "print(calcParams(mdl1))\n",
        "print(calcParams(mdl2))\n",
        "print(calcParams(mdl3))"
      ],
      "metadata": {
        "colab": {
          "base_uri": "https://localhost:8080/"
        },
        "id": "QmQWmrg_vTl5",
        "outputId": "debf5a23-3f96-4b09-c3f4-6ea32ce3c76e"
      },
      "execution_count": 36,
      "outputs": [
        {
          "output_type": "stream",
          "name": "stdout",
          "text": [
            "203530\n",
            "16640\n",
            "242762\n"
          ]
        }
      ]
    },
    {
      "cell_type": "code",
      "source": [
        "EPOCHS = 20\n",
        "model1Cost = []\n",
        "model1TrainingAccuracy = []\n",
        "model1TestAccuracy = []\n",
        "for index in range(EPOCHS):\n",
        "    print(index)\n",
        "    for batch in trainDataLoader:\n",
        "        inputImages, actual = batch\n",
        "        mdl1.zero_grad()\n",
        "        output = mdl1(inputImages.view(-1,784))\n",
        "        cost = lossFunc(output, actual)\n",
        "        cost.backward()\n",
        "        model1inOpt.step()\n",
        "    model1Cost.append(cost.detach().numpy())\n",
        "    print(f'epoch - {index+1} : loss - {cost.item(): .3f}')\n",
        "    \n",
        "    correct = 0\n",
        "    total = 0\n",
        "    with torch.no_grad():\n",
        "        for batch in trainDataLoader:\n",
        "            inputImages, actual = batch\n",
        "            output = mdl1(inputImages.view(-1,784))\n",
        "            for i, outputTensor in enumerate(output):\n",
        "                if torch.argmax(outputTensor) == actual[i]:\n",
        "                    correct += 1\n",
        "                total += 1\n",
        "    model1TrainingAccuracy.append(round(correct/total, 3))\n",
        "\n",
        "    correct = 0\n",
        "    total = 0\n",
        "    with torch.no_grad():\n",
        "        for batch in testDataLoader:\n",
        "            inputImages, actual = batch\n",
        "            output = mdl1(inputImages.view(-1,784))\n",
        "            for i, outputTensor in enumerate(output):\n",
        "                if torch.argmax(outputTensor) == actual[i]:\n",
        "                    correct += 1\n",
        "                total += 1\n",
        "    model1TestAccuracy.append(round(correct/total, 3))"
      ],
      "metadata": {
        "colab": {
          "base_uri": "https://localhost:8080/"
        },
        "id": "TfZrXjUdvp0U",
        "outputId": "c9b94b9a-ae12-414e-ee59-076cc2f7f831"
      },
      "execution_count": 28,
      "outputs": [
        {
          "output_type": "stream",
          "name": "stdout",
          "text": [
            "0\n",
            "epoch - 1 : loss -  0.166\n",
            "1\n",
            "epoch - 2 : loss -  0.096\n",
            "2\n",
            "epoch - 3 : loss -  0.023\n",
            "3\n",
            "epoch - 4 : loss -  0.086\n",
            "4\n",
            "epoch - 5 : loss -  0.027\n",
            "5\n",
            "epoch - 6 : loss -  0.024\n",
            "6\n",
            "epoch - 7 : loss -  0.003\n",
            "7\n",
            "epoch - 8 : loss -  0.014\n",
            "8\n",
            "epoch - 9 : loss -  0.006\n",
            "9\n",
            "epoch - 10 : loss -  0.034\n",
            "10\n",
            "epoch - 11 : loss -  0.007\n",
            "11\n",
            "epoch - 12 : loss -  0.014\n",
            "12\n",
            "epoch - 13 : loss -  0.002\n",
            "13\n",
            "epoch - 14 : loss -  0.006\n",
            "14\n",
            "epoch - 15 : loss -  0.005\n",
            "15\n",
            "epoch - 16 : loss -  0.002\n",
            "16\n",
            "epoch - 17 : loss -  0.000\n",
            "17\n",
            "epoch - 18 : loss -  0.003\n",
            "18\n",
            "epoch - 19 : loss -  0.036\n",
            "19\n",
            "epoch - 20 : loss -  0.001\n"
          ]
        }
      ]
    },
    {
      "cell_type": "code",
      "source": [
        "# Train Deep neural networks, Calculate accuracy for training and testing in each epoch\n",
        "model2Cost = []\n",
        "model2TrainingAccuracy = []\n",
        "model2TestAccuracy = []\n",
        "for index in range(EPOCHS):\n",
        "    print(index)\n",
        "    # Train model and keep track of loss\n",
        "    for batch in trainDataLoader:\n",
        "        inputImages, actual = batch\n",
        "        mdl2.zero_grad()\n",
        "        output = mdl2(inputImages.view(-1,784))\n",
        "        cost = lossFunc(output, actual)\n",
        "        cost.backward()\n",
        "        model2inOpt.step()\n",
        "    model2Cost.append(cost.detach().numpy())\n",
        "    print(f'epoch - {index+1} : loss - {cost.item(): .3f}')\n",
        "    # Calculate accuracy of deep nn on training data\n",
        "    correct = 0\n",
        "    total = 0\n",
        "    with torch.no_grad():\n",
        "        for batch in trainDataLoader:\n",
        "            inputImages, actual = batch\n",
        "            output = mdl2(inputImages.view(-1,784))\n",
        "            for i, outputTensor in enumerate(output):\n",
        "                if torch.argmax(outputTensor) == actual[i]:\n",
        "                    correct += 1\n",
        "                total += 1\n",
        "    model2TrainingAccuracy.append(round(correct/total, 3))\n",
        "\n",
        "    # Calculate accuracy of deep nn on test data\n",
        "    correct = 0\n",
        "    total = 0\n",
        "    with torch.no_grad():\n",
        "        for batch in testDataLoader:\n",
        "            inputImages, actual = batch\n",
        "            output = mdl2(inputImages.view(-1,784))\n",
        "            for i, outputTensor in enumerate(output):\n",
        "                if torch.argmax(outputTensor) == actual[i]:\n",
        "                    correct += 1\n",
        "                total += 1\n",
        "    model2TestAccuracy.append(round(correct/total, 3)) "
      ],
      "metadata": {
        "colab": {
          "base_uri": "https://localhost:8080/"
        },
        "id": "vD_wGEUdwXO5",
        "outputId": "22504f51-2743-48cb-a672-f47a9639c69b"
      },
      "execution_count": 29,
      "outputs": [
        {
          "output_type": "stream",
          "name": "stdout",
          "text": [
            "0\n",
            "epoch - 1 : loss -  0.409\n",
            "1\n",
            "epoch - 2 : loss -  0.191\n",
            "2\n",
            "epoch - 3 : loss -  0.110\n",
            "3\n",
            "epoch - 4 : loss -  0.169\n",
            "4\n",
            "epoch - 5 : loss -  0.091\n",
            "5\n",
            "epoch - 6 : loss -  0.018\n",
            "6\n",
            "epoch - 7 : loss -  0.032\n",
            "7\n",
            "epoch - 8 : loss -  0.044\n",
            "8\n",
            "epoch - 9 : loss -  0.159\n",
            "9\n",
            "epoch - 10 : loss -  0.037\n",
            "10\n",
            "epoch - 11 : loss -  0.048\n",
            "11\n",
            "epoch - 12 : loss -  0.129\n",
            "12\n",
            "epoch - 13 : loss -  0.029\n",
            "13\n",
            "epoch - 14 : loss -  0.132\n",
            "14\n",
            "epoch - 15 : loss -  0.173\n",
            "15\n",
            "epoch - 16 : loss -  0.161\n",
            "16\n",
            "epoch - 17 : loss -  0.189\n",
            "17\n",
            "epoch - 18 : loss -  0.035\n",
            "18\n",
            "epoch - 19 : loss -  0.095\n",
            "19\n",
            "epoch - 20 : loss -  0.125\n"
          ]
        }
      ]
    },
    {
      "cell_type": "code",
      "source": [
        "# Train Deep neural networks, Calculate accuracy for training and testing in each epoch\n",
        "model3Cost = []\n",
        "model3TrainingAccuracy = []\n",
        "model3TestAccuracy = []\n",
        "for index in range(EPOCHS):\n",
        "    print(index)\n",
        "    # Train model and keep track of loss\n",
        "    for batch in trainDataLoader:\n",
        "        inputImages, actual = batch\n",
        "        mdl3.zero_grad()\n",
        "        output = mdl3(inputImages)\n",
        "        cost = lossFunc(output, actual)\n",
        "        cost.backward()\n",
        "        model3inOpt.step()\n",
        "    model3Cost.append(cost.detach().numpy())\n",
        "    print(f'epoch - {index+1} : loss - {cost.item(): .3f}')\n",
        "    \n",
        "    # Calculate accuracy of deep nn on training data\n",
        "    correct = 0\n",
        "    total = 0\n",
        "    with torch.no_grad():\n",
        "        for batch in trainDataLoader:\n",
        "            inputImages, actual = batch\n",
        "            output = mdl3(inputImages)\n",
        "            for i, outputTensor in enumerate(output):\n",
        "                if torch.argmax(outputTensor) == actual[i]:\n",
        "                    correct += 1\n",
        "                total += 1\n",
        "    model3TrainingAccuracy.append(round(correct/total, 3))\n",
        "\n",
        "    # Calculate accuracy of deep nn on test data\n",
        "    correct = 0\n",
        "    total = 0\n",
        "    with torch.no_grad():\n",
        "        for batch in testDataLoader:\n",
        "            inputImages, actual = batch\n",
        "            output = mdl3(inputImages)\n",
        "            for i, outputTensor in enumerate(output):\n",
        "                if torch.argmax(outputTensor) == actual[i]:\n",
        "                    correct += 1\n",
        "                total += 1\n",
        "    model3TestAccuracy.append(round(correct/total, 3)) "
      ],
      "metadata": {
        "colab": {
          "base_uri": "https://localhost:8080/"
        },
        "id": "FUAb2vDnwyqq",
        "outputId": "36d7e3d0-de5e-451e-a30b-c1653d83bb52"
      },
      "execution_count": 35,
      "outputs": [
        {
          "output_type": "stream",
          "name": "stdout",
          "text": [
            "0\n",
            "epoch - 1 : loss -  2.298\n",
            "1\n",
            "epoch - 2 : loss -  2.300\n",
            "2\n",
            "epoch - 3 : loss -  2.302\n",
            "3\n",
            "epoch - 4 : loss -  2.305\n",
            "4\n",
            "epoch - 5 : loss -  2.310\n",
            "5\n",
            "epoch - 6 : loss -  2.291\n",
            "6\n",
            "epoch - 7 : loss -  2.309\n",
            "7\n",
            "epoch - 8 : loss -  2.304\n",
            "8\n",
            "epoch - 9 : loss -  2.299\n",
            "9\n",
            "epoch - 10 : loss -  2.308\n",
            "10\n",
            "epoch - 11 : loss -  2.300\n",
            "11\n",
            "epoch - 12 : loss -  2.301\n",
            "12\n",
            "epoch - 13 : loss -  2.296\n",
            "13\n",
            "epoch - 14 : loss -  2.306\n",
            "14\n",
            "epoch - 15 : loss -  2.303\n",
            "15\n",
            "epoch - 16 : loss -  2.304\n",
            "16\n",
            "epoch - 17 : loss -  2.299\n",
            "17\n",
            "epoch - 18 : loss -  2.301\n",
            "18\n",
            "epoch - 19 : loss -  2.301\n",
            "19\n",
            "epoch - 20 : loss -  2.301\n"
          ]
        }
      ]
    },
    {
      "cell_type": "code",
      "source": [
        "# Visulaize Training process of nn for MNIST dataset\n",
        "plt.plot(range(EPOCHS), model1Cost, 'r', label='Model 1')\n",
        "plt.plot(range(EPOCHS), model2Cost, 'b', label='Model 2')\n",
        "plt.plot(range(EPOCHS), model3Cost,'g',label = 'Model 3')\n",
        "plt.title(\"MNIST Loss Function \")\n",
        "plt.xlabel(\"EPOCHS\")\n",
        "plt.ylabel(\"Loss\")\n",
        "plt.legend()\n",
        "plt.show()"
      ],
      "metadata": {
        "colab": {
          "base_uri": "https://localhost:8080/",
          "height": 295
        },
        "id": "sWqiuQmexR12",
        "outputId": "4adccbee-aa6a-46de-889e-e520bbcd964c"
      },
      "execution_count": 37,
      "outputs": [
        {
          "output_type": "display_data",
          "data": {
            "text/plain": [
              "<Figure size 432x288 with 1 Axes>"
            ],
            "image/png": "[encoded data removed]"
          },
          "metadata": {
            "needs_background": "light"
          }
        }
      ]
    },
    {
      "cell_type": "code",
      "source": [
        "# Visulaize Accuracy of nn for for MNIST dataset\n",
        "plt.plot(range(EPOCHS), model1TrainingAccuracy, 'r--', label='Model 1 Training')\n",
        "plt.plot(range(EPOCHS), model1TestAccuracy, 'r', label='Model 1 Testing')\n",
        "plt.plot(range(EPOCHS), model2TrainingAccuracy, 'b--', label='Model2 Training')\n",
        "plt.plot(range(EPOCHS), model2TestAccuracy, 'b', label='Model 2 Testing')\n",
        "plt.plot(range(EPOCHS), model3TrainingAccuracy, 'g--', label='Model 3 Training')\n",
        "plt.plot(range(EPOCHS), model3TestAccuracy, 'g', label='Model 3 Testing')\n",
        "plt.title(\"Accuracy of the Models of MNIST\")\n",
        "plt.xlabel(\"EPOCHS\")\n",
        "plt.ylabel(\"Accuracy\")\n",
        "plt.legend()\n",
        "plt.show()"
      ],
      "metadata": {
        "colab": {
          "base_uri": "https://localhost:8080/",
          "height": 295
        },
        "id": "quwca7uExdTv",
        "outputId": "30de4544-4dc2-4265-9bb0-a4d910cc5dbc"
      },
      "execution_count": 38,
      "outputs": [
        {
          "output_type": "display_data",
          "data": {
            "text/plain": [
              "<Figure size 432x288 with 1 Axes>"
            ],
            "image/png": "[encoded data removed]"
          },
          "metadata": {
            "needs_background": "light"
          }
        }
      ]
    }
  ]
}